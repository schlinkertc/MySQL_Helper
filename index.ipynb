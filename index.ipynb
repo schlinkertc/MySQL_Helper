{
 "cells": [
  {
   "cell_type": "markdown",
   "metadata": {},
   "source": [
    "# Humble Chuck's SQL Helper\n",
    "\n",
    "### Easily create and edit databases and tables using pandas"
   ]
  },
  {
   "cell_type": "markdown",
   "metadata": {},
   "source": [
    "First, we'll import the required libraries for this demo.\n",
    "\n",
    "- I have mysql_helper stored in my python path, but you can access a copy of the file in this repo.\n",
    "- The 'config' file contains my host, user, and password for MY_SQL"
   ]
  },
  {
   "cell_type": "code",
   "execution_count": 1,
   "metadata": {},
   "outputs": [],
   "source": [
    "from Humble_Chuck import mysql_helper1 as sql\n",
    "import config\n",
    "import pandas as pd"
   ]
  },
  {
   "cell_type": "markdown",
   "metadata": {},
   "source": [
    "- 'game.csv' and 'weather.csv' contain data from 50 random MLB games from the 2019 season\n",
    "- data was pulled from the MLB Stats API"
   ]
  },
  {
   "cell_type": "code",
   "execution_count": 2,
   "metadata": {},
   "outputs": [],
   "source": [
    "games = pd.read_csv(\"games.csv\")\n",
    "weather = pd.read_csv(\"weather.csv\")"
   ]
  },
  {
   "cell_type": "code",
   "execution_count": 3,
   "metadata": {},
   "outputs": [
    {
     "data": {
      "text/html": [
       "<div>\n",
       "<style scoped>\n",
       "    .dataframe tbody tr th:only-of-type {\n",
       "        vertical-align: middle;\n",
       "    }\n",
       "\n",
       "    .dataframe tbody tr th {\n",
       "        vertical-align: top;\n",
       "    }\n",
       "\n",
       "    .dataframe thead th {\n",
       "        text-align: right;\n",
       "    }\n",
       "</style>\n",
       "<table border=\"1\" class=\"dataframe\">\n",
       "  <thead>\n",
       "    <tr style=\"text-align: right;\">\n",
       "      <th></th>\n",
       "      <th>pk</th>\n",
       "      <th>type</th>\n",
       "      <th>doubleHeader</th>\n",
       "      <th>id</th>\n",
       "      <th>gamedayType</th>\n",
       "      <th>tiebreaker</th>\n",
       "      <th>gameNumber</th>\n",
       "      <th>calendarEventID</th>\n",
       "      <th>season</th>\n",
       "      <th>seasonDisplay</th>\n",
       "      <th>home_id</th>\n",
       "      <th>away_id</th>\n",
       "      <th>venue_id</th>\n",
       "    </tr>\n",
       "  </thead>\n",
       "  <tbody>\n",
       "    <tr>\n",
       "      <td>0</td>\n",
       "      <td>565514</td>\n",
       "      <td>R</td>\n",
       "      <td>N</td>\n",
       "      <td>2019/04/10/clemlb-detmlb-1</td>\n",
       "      <td>P</td>\n",
       "      <td>N</td>\n",
       "      <td>1</td>\n",
       "      <td>14-565514-2019-04-10</td>\n",
       "      <td>2019</td>\n",
       "      <td>2019</td>\n",
       "      <td>116</td>\n",
       "      <td>114</td>\n",
       "      <td>2394</td>\n",
       "    </tr>\n",
       "    <tr>\n",
       "      <td>1</td>\n",
       "      <td>567014</td>\n",
       "      <td>R</td>\n",
       "      <td>N</td>\n",
       "      <td>2019/08/02/kcamlb-minmlb-1</td>\n",
       "      <td>P</td>\n",
       "      <td>N</td>\n",
       "      <td>1</td>\n",
       "      <td>14-567014-2019-08-02</td>\n",
       "      <td>2019</td>\n",
       "      <td>2019</td>\n",
       "      <td>142</td>\n",
       "      <td>118</td>\n",
       "      <td>3312</td>\n",
       "    </tr>\n",
       "    <tr>\n",
       "      <td>2</td>\n",
       "      <td>565522</td>\n",
       "      <td>R</td>\n",
       "      <td>N</td>\n",
       "      <td>2019/05/03/kcamlb-detmlb-1</td>\n",
       "      <td>P</td>\n",
       "      <td>N</td>\n",
       "      <td>1</td>\n",
       "      <td>14-565522-2019-05-03</td>\n",
       "      <td>2019</td>\n",
       "      <td>2019</td>\n",
       "      <td>116</td>\n",
       "      <td>118</td>\n",
       "      <td>2394</td>\n",
       "    </tr>\n",
       "    <tr>\n",
       "      <td>3</td>\n",
       "      <td>565576</td>\n",
       "      <td>R</td>\n",
       "      <td>N</td>\n",
       "      <td>2019/09/01/minmlb-detmlb-1</td>\n",
       "      <td>P</td>\n",
       "      <td>N</td>\n",
       "      <td>1</td>\n",
       "      <td>14-565576-2019-09-01</td>\n",
       "      <td>2019</td>\n",
       "      <td>2019</td>\n",
       "      <td>116</td>\n",
       "      <td>142</td>\n",
       "      <td>2394</td>\n",
       "    </tr>\n",
       "    <tr>\n",
       "      <td>4</td>\n",
       "      <td>565628</td>\n",
       "      <td>R</td>\n",
       "      <td>N</td>\n",
       "      <td>2019/05/22/chamlb-houmlb-1</td>\n",
       "      <td>P</td>\n",
       "      <td>N</td>\n",
       "      <td>1</td>\n",
       "      <td>14-565628-2019-05-22</td>\n",
       "      <td>2019</td>\n",
       "      <td>2019</td>\n",
       "      <td>117</td>\n",
       "      <td>145</td>\n",
       "      <td>2392</td>\n",
       "    </tr>\n",
       "  </tbody>\n",
       "</table>\n",
       "</div>"
      ],
      "text/plain": [
       "       pk type doubleHeader                          id gamedayType  \\\n",
       "0  565514    R            N  2019/04/10/clemlb-detmlb-1           P   \n",
       "1  567014    R            N  2019/08/02/kcamlb-minmlb-1           P   \n",
       "2  565522    R            N  2019/05/03/kcamlb-detmlb-1           P   \n",
       "3  565576    R            N  2019/09/01/minmlb-detmlb-1           P   \n",
       "4  565628    R            N  2019/05/22/chamlb-houmlb-1           P   \n",
       "\n",
       "  tiebreaker  gameNumber       calendarEventID  season  seasonDisplay  \\\n",
       "0          N           1  14-565514-2019-04-10    2019           2019   \n",
       "1          N           1  14-567014-2019-08-02    2019           2019   \n",
       "2          N           1  14-565522-2019-05-03    2019           2019   \n",
       "3          N           1  14-565576-2019-09-01    2019           2019   \n",
       "4          N           1  14-565628-2019-05-22    2019           2019   \n",
       "\n",
       "   home_id  away_id  venue_id  \n",
       "0      116      114      2394  \n",
       "1      142      118      3312  \n",
       "2      116      118      2394  \n",
       "3      116      142      2394  \n",
       "4      117      145      2392  "
      ]
     },
     "metadata": {},
     "output_type": "display_data"
    },
    {
     "data": {
      "text/html": [
       "<div>\n",
       "<style scoped>\n",
       "    .dataframe tbody tr th:only-of-type {\n",
       "        vertical-align: middle;\n",
       "    }\n",
       "\n",
       "    .dataframe tbody tr th {\n",
       "        vertical-align: top;\n",
       "    }\n",
       "\n",
       "    .dataframe thead th {\n",
       "        text-align: right;\n",
       "    }\n",
       "</style>\n",
       "<table border=\"1\" class=\"dataframe\">\n",
       "  <thead>\n",
       "    <tr style=\"text-align: right;\">\n",
       "      <th></th>\n",
       "      <th>_condition</th>\n",
       "      <th>temp</th>\n",
       "      <th>wind</th>\n",
       "      <th>pk</th>\n",
       "    </tr>\n",
       "  </thead>\n",
       "  <tbody>\n",
       "    <tr>\n",
       "      <td>0</td>\n",
       "      <td>Cloudy</td>\n",
       "      <td>42</td>\n",
       "      <td>10 mph, L To R</td>\n",
       "      <td>565514</td>\n",
       "    </tr>\n",
       "    <tr>\n",
       "      <td>1</td>\n",
       "      <td>Partly Cloudy</td>\n",
       "      <td>83</td>\n",
       "      <td>7 mph, Out To LF</td>\n",
       "      <td>567014</td>\n",
       "    </tr>\n",
       "    <tr>\n",
       "      <td>2</td>\n",
       "      <td>Cloudy</td>\n",
       "      <td>51</td>\n",
       "      <td>10 mph, Out To RF</td>\n",
       "      <td>565522</td>\n",
       "    </tr>\n",
       "    <tr>\n",
       "      <td>3</td>\n",
       "      <td>Cloudy</td>\n",
       "      <td>63</td>\n",
       "      <td>5 mph, L To R</td>\n",
       "      <td>565576</td>\n",
       "    </tr>\n",
       "    <tr>\n",
       "      <td>4</td>\n",
       "      <td>Roof Closed</td>\n",
       "      <td>73</td>\n",
       "      <td>0 mph, None</td>\n",
       "      <td>565628</td>\n",
       "    </tr>\n",
       "  </tbody>\n",
       "</table>\n",
       "</div>"
      ],
      "text/plain": [
       "      _condition  temp               wind      pk\n",
       "0         Cloudy    42     10 mph, L To R  565514\n",
       "1  Partly Cloudy    83   7 mph, Out To LF  567014\n",
       "2         Cloudy    51  10 mph, Out To RF  565522\n",
       "3         Cloudy    63      5 mph, L To R  565576\n",
       "4    Roof Closed    73        0 mph, None  565628"
      ]
     },
     "metadata": {},
     "output_type": "display_data"
    }
   ],
   "source": [
    "display(games.head())\n",
    "display(weather.head())"
   ]
  },
  {
   "cell_type": "markdown",
   "metadata": {},
   "source": [
    "## Now for the main event:\n",
    "\n",
    "#### mysql_helper allows us to easily move from DataFrames to SQL tables \n",
    "\n",
    "The first step is to instantiate a MY_SQL connection using the parameters found in the config file."
   ]
  },
  {
   "cell_type": "code",
   "execution_count": 4,
   "metadata": {},
   "outputs": [],
   "source": [
    "flatiron = sql.Connection(config.host,config.user,config.password)"
   ]
  },
  {
   "cell_type": "markdown",
   "metadata": {},
   "source": [
    "- the query method for a Connection allows us to query our database with typical SQL syntax\n",
    "- the add_DB and drop_DB methods are included for convenience\n",
    "- you can also call the cnx or cursor methods to use a MY_SQL connection or cursor as normal "
   ]
  },
  {
   "cell_type": "code",
   "execution_count": 5,
   "metadata": {},
   "outputs": [
    {
     "data": {
      "text/plain": [
       "[('MLB_Stats',),\n",
       " ('Yelp_data',),\n",
       " ('employees',),\n",
       " ('information_schema',),\n",
       " ('innodb',),\n",
       " ('mysql',),\n",
       " ('performance_schema',),\n",
       " ('practice',),\n",
       " ('production',),\n",
       " ('sales',),\n",
       " ('students',),\n",
       " ('sys',)]"
      ]
     },
     "execution_count": 5,
     "metadata": {},
     "output_type": "execute_result"
    }
   ],
   "source": [
    "flatiron.query('show databases')"
   ]
  },
  {
   "cell_type": "code",
   "execution_count": 6,
   "metadata": {
    "scrolled": false
   },
   "outputs": [
    {
     "name": "stdout",
     "output_type": "stream",
     "text": [
      "CREATE DATABASE IF NOT EXISTS example\n"
     ]
    }
   ],
   "source": [
    "flatiron.add_DB('example')"
   ]
  },
  {
   "cell_type": "code",
   "execution_count": 7,
   "metadata": {},
   "outputs": [
    {
     "data": {
      "text/plain": [
       "[]"
      ]
     },
     "execution_count": 7,
     "metadata": {},
     "output_type": "execute_result"
    }
   ],
   "source": [
    "# now we can instantiate a direct connection to a database using the DataBase sub-class\n",
    "example = sql.DataBase(flatiron,'example')\n",
    "example.query('show tables') #we don't have any tables though"
   ]
  },
  {
   "cell_type": "markdown",
   "metadata": {},
   "source": [
    "#### Now that we have our example database, we can go forth to add a table using nothing more than our established DataFrames \n",
    "\n",
    "- The 'primary_key' optional argument allows us to specify a primary key"
   ]
  },
  {
   "cell_type": "code",
   "execution_count": 8,
   "metadata": {},
   "outputs": [
    {
     "name": "stdout",
     "output_type": "stream",
     "text": [
      "CREATE TABLE IF NOT EXISTS games (pk INT (64), type VARCHAR (250), doubleHeader VARCHAR (250), id VARCHAR (250), gamedayType VARCHAR (250), tiebreaker VARCHAR (250), gameNumber INT (64), calendarEventID VARCHAR (250), season INT (64), seasonDisplay INT (64), home_id INT (64), away_id INT (64), venue_id INT (64), PRIMARY KEY (pk));\n",
      "Creating a new table\n",
      "OK\n"
     ]
    }
   ],
   "source": [
    "example.table_fromDf(games,'games','pk')"
   ]
  },
  {
   "cell_type": "code",
   "execution_count": 9,
   "metadata": {},
   "outputs": [
    {
     "name": "stdout",
     "output_type": "stream",
     "text": [
      "CREATE TABLE IF NOT EXISTS weather (_condition VARCHAR (250), temp INT (64), wind VARCHAR (250), pk INT (64));\n",
      "Creating a new table\n",
      "OK\n"
     ]
    }
   ],
   "source": [
    "example.table_fromDf(weather,'weather')"
   ]
  },
  {
   "cell_type": "markdown",
   "metadata": {},
   "source": [
    "- The insert_fromDF method will insert data from a pandas DF into a specified SQL table \n",
    "\n",
    "- The insert_fromDF_iteration will method do the same, but for each individual record. \n",
    "    - That way, you can see your progress with print statements. "
   ]
  },
  {
   "cell_type": "code",
   "execution_count": 10,
   "metadata": {},
   "outputs": [
    {
     "name": "stdout",
     "output_type": "stream",
     "text": [
      "(565514, 'R', 'N', '2019/04/10/clemlb-detmlb-1', 'P') succesfully inserted\n",
      "(567014, 'R', 'N', '2019/08/02/kcamlb-minmlb-1', 'P') succesfully inserted\n",
      "(565522, 'R', 'N', '2019/05/03/kcamlb-detmlb-1', 'P') succesfully inserted\n",
      "(565576, 'R', 'N', '2019/09/01/minmlb-detmlb-1', 'P') succesfully inserted\n",
      "(565628, 'R', 'N', '2019/05/22/chamlb-houmlb-1', 'P') succesfully inserted\n",
      "(567516, 'R', 'S', '2019/08/03/bosmlb-nyamlb-1', 'P') succesfully inserted\n",
      "(565618, 'R', 'N', '2019/04/28/clemlb-houmlb-1', 'P') succesfully inserted\n",
      "(567505, 'R', 'N', '2019/07/14/tormlb-nyamlb-1', 'P') succesfully inserted\n",
      "(566277, 'R', 'N', '2019/03/30/sfnmlb-sdnmlb-1', 'P') succesfully inserted\n",
      "(566256, 'R', 'N', '2019/09/25/chnmlb-pitmlb-1', 'P') succesfully inserted\n",
      "(567139, 'R', 'N', '2019/09/29/miamlb-phimlb-1', 'P') succesfully inserted\n",
      "(566976, 'R', 'N', '2019/04/30/houmlb-minmlb-1', 'P') succesfully inserted\n",
      "(565443, 'R', 'N', '2019/06/01/tormlb-colmlb-1', 'P') succesfully inserted\n",
      "(566842, 'R', 'N', '2019/09/15/oakmlb-texmlb-1', 'P') succesfully inserted\n",
      "(567106, 'R', 'N', '2019/07/15/lanmlb-phimlb-1', 'P') succesfully inserted\n",
      "MySQL connection is closed\n",
      "('Cloudy', 42, '10 mph, L To R', 565514) succesfully inserted\n",
      "('Partly Cloudy', 83, '7 mph, Out To LF', 567014) succesfully inserted\n",
      "('Cloudy', 51, '10 mph, Out To RF', 565522) succesfully inserted\n",
      "('Cloudy', 63, '5 mph, L To R', 565576) succesfully inserted\n",
      "('Roof Closed', 73, '0 mph, None', 565628) succesfully inserted\n",
      "('Partly Cloudy', 84, '7 mph, R To L', 567516) succesfully inserted\n",
      "('Partly Cloudy', 80, '9 mph, Out To LF', 565618) succesfully inserted\n",
      "('Sunny', 88, '15 mph, L To R', 567505) succesfully inserted\n",
      "('Clear', 70, '13 mph, L To R', 566277) succesfully inserted\n",
      "('Partly Cloudy', 77, '9 mph, Out To CF', 566256) succesfully inserted\n",
      "('Cloudy', 79, '8 mph, R To L', 567139) succesfully inserted\n",
      "('Overcast', 45, '14 mph, Out To CF', 566976) succesfully inserted\n",
      "('Partly Cloudy', 69, '7 mph, Out To LF', 565443) succesfully inserted\n",
      "('Partly Cloudy', 96, '3 mph, In From CF', 566842) succesfully inserted\n",
      "('Partly Cloudy', 87, '9 mph, Out To RF', 567106) succesfully inserted\n",
      "MySQL connection is closed\n"
     ]
    }
   ],
   "source": [
    "example.insert_fromDf_iteration(games,'games')\n",
    "example.insert_fromDf_iteration(weather, 'weather')"
   ]
  },
  {
   "cell_type": "markdown",
   "metadata": {},
   "source": [
    "Now we can make a new DataFrame directly from our database "
   ]
  },
  {
   "cell_type": "code",
   "execution_count": 11,
   "metadata": {
    "scrolled": true
   },
   "outputs": [
    {
     "data": {
      "text/html": [
       "<div>\n",
       "<style scoped>\n",
       "    .dataframe tbody tr th:only-of-type {\n",
       "        vertical-align: middle;\n",
       "    }\n",
       "\n",
       "    .dataframe tbody tr th {\n",
       "        vertical-align: top;\n",
       "    }\n",
       "\n",
       "    .dataframe thead th {\n",
       "        text-align: right;\n",
       "    }\n",
       "</style>\n",
       "<table border=\"1\" class=\"dataframe\">\n",
       "  <thead>\n",
       "    <tr style=\"text-align: right;\">\n",
       "      <th></th>\n",
       "      <th>pk</th>\n",
       "      <th>season</th>\n",
       "      <th>home_id</th>\n",
       "      <th>away_id</th>\n",
       "      <th>venue_id</th>\n",
       "      <th>_condition</th>\n",
       "      <th>temp</th>\n",
       "      <th>wind</th>\n",
       "    </tr>\n",
       "  </thead>\n",
       "  <tbody>\n",
       "    <tr>\n",
       "      <td>0</td>\n",
       "      <td>565514</td>\n",
       "      <td>2019</td>\n",
       "      <td>116</td>\n",
       "      <td>114</td>\n",
       "      <td>2394</td>\n",
       "      <td>Cloudy</td>\n",
       "      <td>42</td>\n",
       "      <td>10 mph, L To R</td>\n",
       "    </tr>\n",
       "    <tr>\n",
       "      <td>1</td>\n",
       "      <td>567014</td>\n",
       "      <td>2019</td>\n",
       "      <td>142</td>\n",
       "      <td>118</td>\n",
       "      <td>3312</td>\n",
       "      <td>Partly Cloudy</td>\n",
       "      <td>83</td>\n",
       "      <td>7 mph, Out To LF</td>\n",
       "    </tr>\n",
       "    <tr>\n",
       "      <td>2</td>\n",
       "      <td>565522</td>\n",
       "      <td>2019</td>\n",
       "      <td>116</td>\n",
       "      <td>118</td>\n",
       "      <td>2394</td>\n",
       "      <td>Cloudy</td>\n",
       "      <td>51</td>\n",
       "      <td>10 mph, Out To RF</td>\n",
       "    </tr>\n",
       "    <tr>\n",
       "      <td>3</td>\n",
       "      <td>565576</td>\n",
       "      <td>2019</td>\n",
       "      <td>116</td>\n",
       "      <td>142</td>\n",
       "      <td>2394</td>\n",
       "      <td>Cloudy</td>\n",
       "      <td>63</td>\n",
       "      <td>5 mph, L To R</td>\n",
       "    </tr>\n",
       "    <tr>\n",
       "      <td>4</td>\n",
       "      <td>565628</td>\n",
       "      <td>2019</td>\n",
       "      <td>117</td>\n",
       "      <td>145</td>\n",
       "      <td>2392</td>\n",
       "      <td>Roof Closed</td>\n",
       "      <td>73</td>\n",
       "      <td>0 mph, None</td>\n",
       "    </tr>\n",
       "    <tr>\n",
       "      <td>5</td>\n",
       "      <td>567516</td>\n",
       "      <td>2019</td>\n",
       "      <td>147</td>\n",
       "      <td>111</td>\n",
       "      <td>3313</td>\n",
       "      <td>Partly Cloudy</td>\n",
       "      <td>84</td>\n",
       "      <td>7 mph, R To L</td>\n",
       "    </tr>\n",
       "    <tr>\n",
       "      <td>6</td>\n",
       "      <td>565618</td>\n",
       "      <td>2019</td>\n",
       "      <td>117</td>\n",
       "      <td>114</td>\n",
       "      <td>2392</td>\n",
       "      <td>Partly Cloudy</td>\n",
       "      <td>80</td>\n",
       "      <td>9 mph, Out To LF</td>\n",
       "    </tr>\n",
       "    <tr>\n",
       "      <td>7</td>\n",
       "      <td>567505</td>\n",
       "      <td>2019</td>\n",
       "      <td>147</td>\n",
       "      <td>141</td>\n",
       "      <td>3313</td>\n",
       "      <td>Sunny</td>\n",
       "      <td>88</td>\n",
       "      <td>15 mph, L To R</td>\n",
       "    </tr>\n",
       "    <tr>\n",
       "      <td>8</td>\n",
       "      <td>566277</td>\n",
       "      <td>2019</td>\n",
       "      <td>135</td>\n",
       "      <td>137</td>\n",
       "      <td>2680</td>\n",
       "      <td>Clear</td>\n",
       "      <td>70</td>\n",
       "      <td>13 mph, L To R</td>\n",
       "    </tr>\n",
       "    <tr>\n",
       "      <td>9</td>\n",
       "      <td>566256</td>\n",
       "      <td>2019</td>\n",
       "      <td>134</td>\n",
       "      <td>112</td>\n",
       "      <td>31</td>\n",
       "      <td>Partly Cloudy</td>\n",
       "      <td>77</td>\n",
       "      <td>9 mph, Out To CF</td>\n",
       "    </tr>\n",
       "    <tr>\n",
       "      <td>10</td>\n",
       "      <td>567139</td>\n",
       "      <td>2019</td>\n",
       "      <td>143</td>\n",
       "      <td>146</td>\n",
       "      <td>2681</td>\n",
       "      <td>Cloudy</td>\n",
       "      <td>79</td>\n",
       "      <td>8 mph, R To L</td>\n",
       "    </tr>\n",
       "    <tr>\n",
       "      <td>11</td>\n",
       "      <td>566976</td>\n",
       "      <td>2019</td>\n",
       "      <td>142</td>\n",
       "      <td>117</td>\n",
       "      <td>3312</td>\n",
       "      <td>Overcast</td>\n",
       "      <td>45</td>\n",
       "      <td>14 mph, Out To CF</td>\n",
       "    </tr>\n",
       "    <tr>\n",
       "      <td>12</td>\n",
       "      <td>565443</td>\n",
       "      <td>2019</td>\n",
       "      <td>115</td>\n",
       "      <td>141</td>\n",
       "      <td>19</td>\n",
       "      <td>Partly Cloudy</td>\n",
       "      <td>69</td>\n",
       "      <td>7 mph, Out To LF</td>\n",
       "    </tr>\n",
       "    <tr>\n",
       "      <td>13</td>\n",
       "      <td>566842</td>\n",
       "      <td>2019</td>\n",
       "      <td>140</td>\n",
       "      <td>133</td>\n",
       "      <td>13</td>\n",
       "      <td>Partly Cloudy</td>\n",
       "      <td>96</td>\n",
       "      <td>3 mph, In From CF</td>\n",
       "    </tr>\n",
       "    <tr>\n",
       "      <td>14</td>\n",
       "      <td>567106</td>\n",
       "      <td>2019</td>\n",
       "      <td>143</td>\n",
       "      <td>119</td>\n",
       "      <td>2681</td>\n",
       "      <td>Partly Cloudy</td>\n",
       "      <td>87</td>\n",
       "      <td>9 mph, Out To RF</td>\n",
       "    </tr>\n",
       "  </tbody>\n",
       "</table>\n",
       "</div>"
      ],
      "text/plain": [
       "        pk  season  home_id  away_id  venue_id     _condition  temp  \\\n",
       "0   565514    2019      116      114      2394         Cloudy    42   \n",
       "1   567014    2019      142      118      3312  Partly Cloudy    83   \n",
       "2   565522    2019      116      118      2394         Cloudy    51   \n",
       "3   565576    2019      116      142      2394         Cloudy    63   \n",
       "4   565628    2019      117      145      2392    Roof Closed    73   \n",
       "5   567516    2019      147      111      3313  Partly Cloudy    84   \n",
       "6   565618    2019      117      114      2392  Partly Cloudy    80   \n",
       "7   567505    2019      147      141      3313          Sunny    88   \n",
       "8   566277    2019      135      137      2680          Clear    70   \n",
       "9   566256    2019      134      112        31  Partly Cloudy    77   \n",
       "10  567139    2019      143      146      2681         Cloudy    79   \n",
       "11  566976    2019      142      117      3312       Overcast    45   \n",
       "12  565443    2019      115      141        19  Partly Cloudy    69   \n",
       "13  566842    2019      140      133        13  Partly Cloudy    96   \n",
       "14  567106    2019      143      119      2681  Partly Cloudy    87   \n",
       "\n",
       "                 wind  \n",
       "0      10 mph, L To R  \n",
       "1    7 mph, Out To LF  \n",
       "2   10 mph, Out To RF  \n",
       "3       5 mph, L To R  \n",
       "4         0 mph, None  \n",
       "5       7 mph, R To L  \n",
       "6    9 mph, Out To LF  \n",
       "7      15 mph, L To R  \n",
       "8      13 mph, L To R  \n",
       "9    9 mph, Out To CF  \n",
       "10      8 mph, R To L  \n",
       "11  14 mph, Out To CF  \n",
       "12   7 mph, Out To LF  \n",
       "13  3 mph, In From CF  \n",
       "14   9 mph, Out To RF  "
      ]
     },
     "execution_count": 11,
     "metadata": {},
     "output_type": "execute_result"
    }
   ],
   "source": [
    "example.query_to_df(\"\"\"select\n",
    "                    g.pk,\n",
    "                    g.season,\n",
    "                    g.home_id,\n",
    "                    g.away_id,\n",
    "                    g.venue_id,\n",
    "                    w._condition,\n",
    "                    w.temp,\n",
    "                    w.wind\n",
    "                    from games g inner join weather w on g.pk=w.pk; \"\"\")"
   ]
  }
 ],
 "metadata": {
  "kernelspec": {
   "display_name": "Python 3",
   "language": "python",
   "name": "python3"
  },
  "language_info": {
   "codemirror_mode": {
    "name": "ipython",
    "version": 3
   },
   "file_extension": ".py",
   "mimetype": "text/x-python",
   "name": "python",
   "nbconvert_exporter": "python",
   "pygments_lexer": "ipython3",
   "version": "3.7.3"
  }
 },
 "nbformat": 4,
 "nbformat_minor": 2
}
